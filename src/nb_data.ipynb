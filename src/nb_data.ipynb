version https://git-lfs.github.com/spec/v1
oid sha256:47a29c0cf2d511c573a25bbd66b3296d8c73ab9750e5abe5dae6fe4e90b8d3a8
size 2153301
